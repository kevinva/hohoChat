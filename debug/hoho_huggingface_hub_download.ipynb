{
 "cells": [
  {
   "cell_type": "code",
   "execution_count": 1,
   "id": "91866992",
   "metadata": {},
   "outputs": [
    {
     "name": "stdout",
     "output_type": "stream",
     "text": [
      "Requirement already satisfied: huggingface_hub in d:\\programdata\\anaconda3\\envs\\hoho_chatgpt\\lib\\site-packages (0.14.1)\n",
      "Requirement already satisfied: tqdm>=4.42.1 in d:\\programdata\\anaconda3\\envs\\hoho_chatgpt\\lib\\site-packages (from huggingface_hub) (4.65.0)\n",
      "Requirement already satisfied: fsspec in d:\\programdata\\anaconda3\\envs\\hoho_chatgpt\\lib\\site-packages (from huggingface_hub) (2023.4.0)\n",
      "Requirement already satisfied: packaging>=20.9 in d:\\programdata\\anaconda3\\envs\\hoho_chatgpt\\lib\\site-packages (from huggingface_hub) (23.1)\n",
      "Requirement already satisfied: requests in d:\\programdata\\anaconda3\\envs\\hoho_chatgpt\\lib\\site-packages (from huggingface_hub) (2.29.0)\n",
      "Requirement already satisfied: filelock in d:\\programdata\\anaconda3\\envs\\hoho_chatgpt\\lib\\site-packages (from huggingface_hub) (3.12.0)\n",
      "Requirement already satisfied: pyyaml>=5.1 in d:\\programdata\\anaconda3\\envs\\hoho_chatgpt\\lib\\site-packages (from huggingface_hub) (6.0)\n",
      "Requirement already satisfied: typing-extensions>=3.7.4.3 in d:\\programdata\\anaconda3\\envs\\hoho_chatgpt\\lib\\site-packages (from huggingface_hub) (4.5.0)\n",
      "Requirement already satisfied: colorama in d:\\programdata\\anaconda3\\envs\\hoho_chatgpt\\lib\\site-packages (from tqdm>=4.42.1->huggingface_hub) (0.4.6)\n",
      "Requirement already satisfied: certifi>=2017.4.17 in d:\\programdata\\anaconda3\\envs\\hoho_chatgpt\\lib\\site-packages (from requests->huggingface_hub) (2022.12.7)\n",
      "Requirement already satisfied: idna<4,>=2.5 in d:\\programdata\\anaconda3\\envs\\hoho_chatgpt\\lib\\site-packages (from requests->huggingface_hub) (3.4)\n",
      "Requirement already satisfied: charset-normalizer<4,>=2 in d:\\programdata\\anaconda3\\envs\\hoho_chatgpt\\lib\\site-packages (from requests->huggingface_hub) (3.1.0)\n",
      "Requirement already satisfied: urllib3<1.27,>=1.21.1 in d:\\programdata\\anaconda3\\envs\\hoho_chatgpt\\lib\\site-packages (from requests->huggingface_hub) (1.26.15)\n"
     ]
    }
   ],
   "source": [
    "!pip install huggingface_hub"
   ]
  },
  {
   "cell_type": "code",
   "execution_count": 2,
   "id": "31965d3a",
   "metadata": {},
   "outputs": [],
   "source": [
    "from huggingface_hub import snapshot_download"
   ]
  },
  {
   "cell_type": "code",
   "execution_count": 6,
   "id": "3758be48",
   "metadata": {},
   "outputs": [
    {
     "data": {
      "application/vnd.jupyter.widget-view+json": {
       "model_id": "1136f01fb031412283f4b23e36c6d0b2",
       "version_major": 2,
       "version_minor": 0
      },
      "text/plain": [
       "Fetching 14 files:   0%|          | 0/14 [00:00<?, ?it/s]"
      ]
     },
     "metadata": {},
     "output_type": "display_data"
    },
    {
     "data": {
      "application/vnd.jupyter.widget-view+json": {
       "model_id": "92bd9f0d5d0148c7aed0c0c51f653ede",
       "version_major": 2,
       "version_minor": 0
      },
      "text/plain": [
       "Downloading pytorch_model.bin:   0%|          | 0.00/3.89G [00:00<?, ?B/s]"
      ]
     },
     "metadata": {},
     "output_type": "display_data"
    },
    {
     "data": {
      "text/plain": [
       "'F:\\\\AI\\\\hohoChat\\\\models\\\\chatglm-6b-int4'"
      ]
     },
     "execution_count": 6,
     "metadata": {},
     "output_type": "execute_result"
    }
   ],
   "source": [
    "snapshot_download(repo_id = \"THUDM/chatglm-6b-int4\", local_dir = \"../models/chatglm-6b-int4/\", ignore_patterns = [\"*.h5\", \"*.ot\", \"*.msgpack\"])"
   ]
  },
  {
   "cell_type": "code",
   "execution_count": null,
   "id": "dc2aff2a",
   "metadata": {},
   "outputs": [],
   "source": []
  }
 ],
 "metadata": {
  "kernelspec": {
   "display_name": "Python 3 (ipykernel)",
   "language": "python",
   "name": "python3"
  },
  "language_info": {
   "codemirror_mode": {
    "name": "ipython",
    "version": 3
   },
   "file_extension": ".py",
   "mimetype": "text/x-python",
   "name": "python",
   "nbconvert_exporter": "python",
   "pygments_lexer": "ipython3",
   "version": "3.10.11"
  }
 },
 "nbformat": 4,
 "nbformat_minor": 5
}
