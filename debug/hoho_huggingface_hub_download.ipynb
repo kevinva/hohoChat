{
 "cells": [
  {
   "cell_type": "code",
   "execution_count": 1,
   "id": "91866992",
   "metadata": {},
   "outputs": [
    {
     "name": "stdout",
     "output_type": "stream",
     "text": [
      "Requirement already satisfied: huggingface_hub in d:\\users\\hoho\\anaconda3\\envs\\hoho\\lib\\site-packages (0.14.1)\n",
      "Requirement already satisfied: typing-extensions>=3.7.4.3 in d:\\users\\hoho\\anaconda3\\envs\\hoho\\lib\\site-packages (from huggingface_hub) (4.5.0)\n",
      "Requirement already satisfied: packaging>=20.9 in d:\\users\\hoho\\anaconda3\\envs\\hoho\\lib\\site-packages (from huggingface_hub) (23.1)\n",
      "Requirement already satisfied: pyyaml>=5.1 in d:\\users\\hoho\\anaconda3\\envs\\hoho\\lib\\site-packages (from huggingface_hub) (6.0)\n",
      "Requirement already satisfied: filelock in d:\\users\\hoho\\anaconda3\\envs\\hoho\\lib\\site-packages (from huggingface_hub) (3.11.0)\n",
      "Requirement already satisfied: fsspec in d:\\users\\hoho\\anaconda3\\envs\\hoho\\lib\\site-packages (from huggingface_hub) (2023.4.0)\n",
      "Requirement already satisfied: tqdm>=4.42.1 in d:\\users\\hoho\\anaconda3\\envs\\hoho\\lib\\site-packages (from huggingface_hub) (4.65.0)\n",
      "Requirement already satisfied: requests in d:\\users\\hoho\\anaconda3\\envs\\hoho\\lib\\site-packages (from huggingface_hub) (2.30.0)\n",
      "Requirement already satisfied: colorama in d:\\users\\hoho\\anaconda3\\envs\\hoho\\lib\\site-packages (from tqdm>=4.42.1->huggingface_hub) (0.4.6)\n",
      "Requirement already satisfied: idna<4,>=2.5 in d:\\users\\hoho\\anaconda3\\envs\\hoho\\lib\\site-packages (from requests->huggingface_hub) (3.4)\n",
      "Requirement already satisfied: certifi>=2017.4.17 in d:\\users\\hoho\\anaconda3\\envs\\hoho\\lib\\site-packages (from requests->huggingface_hub) (2022.12.7)\n",
      "Requirement already satisfied: charset-normalizer<4,>=2 in d:\\users\\hoho\\anaconda3\\envs\\hoho\\lib\\site-packages (from requests->huggingface_hub) (3.1.0)\n",
      "Requirement already satisfied: urllib3<3,>=1.21.1 in d:\\users\\hoho\\anaconda3\\envs\\hoho\\lib\\site-packages (from requests->huggingface_hub) (1.26.16)\n"
     ]
    }
   ],
   "source": [
    "!pip install huggingface_hub"
   ]
  },
  {
   "cell_type": "code",
   "execution_count": 1,
   "id": "31965d3a",
   "metadata": {},
   "outputs": [],
   "source": [
    "from huggingface_hub import snapshot_download"
   ]
  },
  {
   "cell_type": "code",
   "execution_count": 2,
   "id": "3758be48",
   "metadata": {
    "scrolled": true
   },
   "outputs": [
    {
     "data": {
      "application/vnd.jupyter.widget-view+json": {
       "model_id": "2b22a38c12154ba8b77849e7b636f2df",
       "version_major": 2,
       "version_minor": 0
      },
      "text/plain": [
       "Fetching 11 files:   0%|          | 0/11 [00:00<?, ?it/s]"
      ]
     },
     "metadata": {},
     "output_type": "display_data"
    },
    {
     "data": {
      "application/vnd.jupyter.widget-view+json": {
       "model_id": "3a3e68f6d35e4fbda7c5dd7693785790",
       "version_major": 2,
       "version_minor": 0
      },
      "text/plain": [
       "Downloading (…)1f0719/MODEL_LICENSE:   0%|          | 0.00/2.36k [00:00<?, ?B/s]"
      ]
     },
     "metadata": {},
     "output_type": "display_data"
    },
    {
     "data": {
      "application/vnd.jupyter.widget-view+json": {
       "model_id": "baf63b918221427599d7e10c2d3f4ac8",
       "version_major": 2,
       "version_minor": 0
      },
      "text/plain": [
       "Downloading (…)iguration_chatglm.py:   0%|          | 0.00/2.08k [00:00<?, ?B/s]"
      ]
     },
     "metadata": {},
     "output_type": "display_data"
    },
    {
     "data": {
      "application/vnd.jupyter.widget-view+json": {
       "model_id": "e1ccd63d810f4b0dbf714387ca0d64c2",
       "version_major": 2,
       "version_minor": 0
      },
      "text/plain": [
       "Downloading (…)312f1f0719/README.md:   0%|          | 0.00/7.69k [00:00<?, ?B/s]"
      ]
     },
     "metadata": {},
     "output_type": "display_data"
    },
    {
     "data": {
      "application/vnd.jupyter.widget-view+json": {
       "model_id": "1b86666371f341de9a66dc2419a83468",
       "version_major": 2,
       "version_minor": 0
      },
      "text/plain": [
       "Downloading (…)2f1f0719/config.json:   0%|          | 0.00/1.17k [00:00<?, ?B/s]"
      ]
     },
     "metadata": {},
     "output_type": "display_data"
    },
    {
     "data": {
      "application/vnd.jupyter.widget-view+json": {
       "model_id": "2b2a6d572d0849e09e5f3286c87c5af7",
       "version_major": 2,
       "version_minor": 0
      },
      "text/plain": [
       "Downloading (…)/modeling_chatglm.py:   0%|          | 0.00/47.1k [00:00<?, ?B/s]"
      ]
     },
     "metadata": {},
     "output_type": "display_data"
    },
    {
     "data": {
      "application/vnd.jupyter.widget-view+json": {
       "model_id": "31ca5dc368e94a098749c8a6583a60af",
       "version_major": 2,
       "version_minor": 0
      },
      "text/plain": [
       "Downloading pytorch_model.bin:   0%|          | 0.00/3.92G [00:00<?, ?B/s]"
      ]
     },
     "metadata": {},
     "output_type": "display_data"
    },
    {
     "data": {
      "application/vnd.jupyter.widget-view+json": {
       "model_id": "e3252237281946a78a62f3e7adadd437",
       "version_major": 2,
       "version_minor": 0
      },
      "text/plain": [
       "Downloading (…)enization_chatglm.py:   0%|          | 0.00/9.25k [00:00<?, ?B/s]"
      ]
     },
     "metadata": {},
     "output_type": "display_data"
    },
    {
     "data": {
      "application/vnd.jupyter.widget-view+json": {
       "model_id": "ba3fff94abf14c639e46e2f3f4340052",
       "version_major": 2,
       "version_minor": 0
      },
      "text/plain": [
       "Downloading (…)okenizer_config.json:   0%|          | 0.00/243 [00:00<?, ?B/s]"
      ]
     },
     "metadata": {},
     "output_type": "display_data"
    },
    {
     "data": {
      "application/vnd.jupyter.widget-view+json": {
       "model_id": "17bf041d047f4417968f1f52004b2c9c",
       "version_major": 2,
       "version_minor": 0
      },
      "text/plain": [
       "Downloading tokenizer.model:   0%|          | 0.00/1.02M [00:00<?, ?B/s]"
      ]
     },
     "metadata": {},
     "output_type": "display_data"
    },
    {
     "data": {
      "application/vnd.jupyter.widget-view+json": {
       "model_id": "bf87dde001c64df287c263c0472c2623",
       "version_major": 2,
       "version_minor": 0
      },
      "text/plain": [
       "Downloading (…)f0719/.gitattributes:   0%|          | 0.00/1.52k [00:00<?, ?B/s]"
      ]
     },
     "metadata": {},
     "output_type": "display_data"
    },
    {
     "data": {
      "application/vnd.jupyter.widget-view+json": {
       "model_id": "dd35b8c70bd540c794f1dc929eac2d61",
       "version_major": 2,
       "version_minor": 0
      },
      "text/plain": [
       "Downloading (…)0719/quantization.py:   0%|          | 0.00/23.5k [00:00<?, ?B/s]"
      ]
     },
     "metadata": {},
     "output_type": "display_data"
    },
    {
     "data": {
      "text/plain": [
       "'F:\\\\AI\\\\hohoChat\\\\models\\\\chatglm2-6b-int4'"
      ]
     },
     "execution_count": 2,
     "metadata": {},
     "output_type": "execute_result"
    }
   ],
   "source": [
    "snapshot_download(repo_id = \"THUDM/chatglm2-6b-int4\", local_dir = \"../models/chatglm2-6b-int4/\", ignore_patterns = [\"*.h5\", \"*.ot\", \"*.msgpack\"])"
   ]
  },
  {
   "cell_type": "code",
   "execution_count": null,
   "id": "dc2aff2a",
   "metadata": {},
   "outputs": [],
   "source": []
  }
 ],
 "metadata": {
  "kernelspec": {
   "display_name": "Python 3 (ipykernel)",
   "language": "python",
   "name": "python3"
  },
  "language_info": {
   "codemirror_mode": {
    "name": "ipython",
    "version": 3
   },
   "file_extension": ".py",
   "mimetype": "text/x-python",
   "name": "python",
   "nbconvert_exporter": "python",
   "pygments_lexer": "ipython3",
   "version": "3.10.11"
  }
 },
 "nbformat": 4,
 "nbformat_minor": 5
}
