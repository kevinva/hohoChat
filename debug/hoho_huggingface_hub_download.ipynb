{
 "cells": [
  {
   "cell_type": "code",
   "execution_count": 1,
   "id": "91866992",
   "metadata": {},
   "outputs": [
    {
     "name": "stdout",
     "output_type": "stream",
     "text": [
      "Requirement already satisfied: huggingface_hub in d:\\users\\hoho\\anaconda3\\envs\\hoho\\lib\\site-packages (0.14.1)\n",
      "Requirement already satisfied: typing-extensions>=3.7.4.3 in d:\\users\\hoho\\anaconda3\\envs\\hoho\\lib\\site-packages (from huggingface_hub) (4.5.0)\n",
      "Requirement already satisfied: packaging>=20.9 in d:\\users\\hoho\\anaconda3\\envs\\hoho\\lib\\site-packages (from huggingface_hub) (23.1)\n",
      "Requirement already satisfied: pyyaml>=5.1 in d:\\users\\hoho\\anaconda3\\envs\\hoho\\lib\\site-packages (from huggingface_hub) (6.0)\n",
      "Requirement already satisfied: filelock in d:\\users\\hoho\\anaconda3\\envs\\hoho\\lib\\site-packages (from huggingface_hub) (3.11.0)\n",
      "Requirement already satisfied: fsspec in d:\\users\\hoho\\anaconda3\\envs\\hoho\\lib\\site-packages (from huggingface_hub) (2023.4.0)\n",
      "Requirement already satisfied: tqdm>=4.42.1 in d:\\users\\hoho\\anaconda3\\envs\\hoho\\lib\\site-packages (from huggingface_hub) (4.65.0)\n",
      "Requirement already satisfied: requests in d:\\users\\hoho\\anaconda3\\envs\\hoho\\lib\\site-packages (from huggingface_hub) (2.30.0)\n",
      "Requirement already satisfied: colorama in d:\\users\\hoho\\anaconda3\\envs\\hoho\\lib\\site-packages (from tqdm>=4.42.1->huggingface_hub) (0.4.6)\n",
      "Requirement already satisfied: idna<4,>=2.5 in d:\\users\\hoho\\anaconda3\\envs\\hoho\\lib\\site-packages (from requests->huggingface_hub) (3.4)\n",
      "Requirement already satisfied: certifi>=2017.4.17 in d:\\users\\hoho\\anaconda3\\envs\\hoho\\lib\\site-packages (from requests->huggingface_hub) (2022.12.7)\n",
      "Requirement already satisfied: charset-normalizer<4,>=2 in d:\\users\\hoho\\anaconda3\\envs\\hoho\\lib\\site-packages (from requests->huggingface_hub) (3.1.0)\n",
      "Requirement already satisfied: urllib3<3,>=1.21.1 in d:\\users\\hoho\\anaconda3\\envs\\hoho\\lib\\site-packages (from requests->huggingface_hub) (1.26.16)\n"
     ]
    }
   ],
   "source": [
    "!pip install huggingface_hub"
   ]
  },
  {
   "cell_type": "code",
   "execution_count": 2,
   "id": "31965d3a",
   "metadata": {},
   "outputs": [],
   "source": [
    "from huggingface_hub import snapshot_download"
   ]
  },
  {
   "cell_type": "code",
   "execution_count": 5,
   "id": "3758be48",
   "metadata": {
    "scrolled": true
   },
   "outputs": [
    {
     "data": {
      "application/vnd.jupyter.widget-view+json": {
       "model_id": "120ce6d71d3943a3875ec2e2d485461a",
       "version_major": 2,
       "version_minor": 0
      },
      "text/plain": [
       "Fetching 21 files:   0%|          | 0/21 [00:00<?, ?it/s]"
      ]
     },
     "metadata": {},
     "output_type": "display_data"
    },
    {
     "data": {
      "application/vnd.jupyter.widget-view+json": {
       "model_id": "16e1e3c0df104594bd9b4c6b9415f582",
       "version_major": 2,
       "version_minor": 0
      },
      "text/plain": [
       "Downloading (…)l-00006-of-00008.bin:   0%|          | 0.00/1.88G [00:00<?, ?B/s]"
      ]
     },
     "metadata": {},
     "output_type": "display_data"
    },
    {
     "data": {
      "text/plain": [
       "'F:\\\\AI\\\\hohoChat\\\\models\\\\chatglm-6b'"
      ]
     },
     "execution_count": 5,
     "metadata": {},
     "output_type": "execute_result"
    }
   ],
   "source": [
    "snapshot_download(repo_id = \"THUDM/chatglm-6b\", local_dir = \"../models/chatglm-6b/\", ignore_patterns = [\"*.h5\", \"*.ot\", \"*.msgpack\"])"
   ]
  },
  {
   "cell_type": "code",
   "execution_count": null,
   "id": "dc2aff2a",
   "metadata": {},
   "outputs": [],
   "source": []
  }
 ],
 "metadata": {
  "kernelspec": {
   "display_name": "Python 3 (ipykernel)",
   "language": "python",
   "name": "python3"
  },
  "language_info": {
   "codemirror_mode": {
    "name": "ipython",
    "version": 3
   },
   "file_extension": ".py",
   "mimetype": "text/x-python",
   "name": "python",
   "nbconvert_exporter": "python",
   "pygments_lexer": "ipython3",
   "version": "3.10.11"
  }
 },
 "nbformat": 4,
 "nbformat_minor": 5
}
