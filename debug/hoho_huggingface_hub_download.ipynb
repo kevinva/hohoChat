{
 "cells": [
  {
   "cell_type": "code",
   "execution_count": 1,
   "id": "91866992",
   "metadata": {},
   "outputs": [
    {
     "name": "stdout",
     "output_type": "stream",
     "text": [
      "Requirement already satisfied: huggingface_hub in d:\\users\\hoho\\anaconda3\\envs\\hoho\\lib\\site-packages (0.14.1)\n",
      "Requirement already satisfied: typing-extensions>=3.7.4.3 in d:\\users\\hoho\\anaconda3\\envs\\hoho\\lib\\site-packages (from huggingface_hub) (4.5.0)\n",
      "Requirement already satisfied: packaging>=20.9 in d:\\users\\hoho\\anaconda3\\envs\\hoho\\lib\\site-packages (from huggingface_hub) (23.1)\n",
      "Requirement already satisfied: pyyaml>=5.1 in d:\\users\\hoho\\anaconda3\\envs\\hoho\\lib\\site-packages (from huggingface_hub) (6.0)\n",
      "Requirement already satisfied: filelock in d:\\users\\hoho\\anaconda3\\envs\\hoho\\lib\\site-packages (from huggingface_hub) (3.11.0)\n",
      "Requirement already satisfied: fsspec in d:\\users\\hoho\\anaconda3\\envs\\hoho\\lib\\site-packages (from huggingface_hub) (2023.4.0)\n",
      "Requirement already satisfied: tqdm>=4.42.1 in d:\\users\\hoho\\anaconda3\\envs\\hoho\\lib\\site-packages (from huggingface_hub) (4.65.0)\n",
      "Requirement already satisfied: requests in d:\\users\\hoho\\anaconda3\\envs\\hoho\\lib\\site-packages (from huggingface_hub) (2.30.0)\n",
      "Requirement already satisfied: colorama in d:\\users\\hoho\\anaconda3\\envs\\hoho\\lib\\site-packages (from tqdm>=4.42.1->huggingface_hub) (0.4.6)\n",
      "Requirement already satisfied: idna<4,>=2.5 in d:\\users\\hoho\\anaconda3\\envs\\hoho\\lib\\site-packages (from requests->huggingface_hub) (3.4)\n",
      "Requirement already satisfied: certifi>=2017.4.17 in d:\\users\\hoho\\anaconda3\\envs\\hoho\\lib\\site-packages (from requests->huggingface_hub) (2022.12.7)\n",
      "Requirement already satisfied: charset-normalizer<4,>=2 in d:\\users\\hoho\\anaconda3\\envs\\hoho\\lib\\site-packages (from requests->huggingface_hub) (3.1.0)\n",
      "Requirement already satisfied: urllib3<3,>=1.21.1 in d:\\users\\hoho\\anaconda3\\envs\\hoho\\lib\\site-packages (from requests->huggingface_hub) (1.26.16)\n"
     ]
    }
   ],
   "source": [
    "!pip install huggingface_hub"
   ]
  },
  {
   "cell_type": "code",
   "execution_count": 2,
   "id": "31965d3a",
   "metadata": {},
   "outputs": [],
   "source": [
    "from huggingface_hub import snapshot_download"
   ]
  },
  {
   "cell_type": "code",
   "execution_count": 3,
   "id": "3758be48",
   "metadata": {},
   "outputs": [
    {
     "data": {
      "application/vnd.jupyter.widget-view+json": {
       "model_id": "01e33c4868aa4979a185ea2add90bc65",
       "version_major": 2,
       "version_minor": 0
      },
      "text/plain": [
       "Fetching 5 files:   0%|          | 0/5 [00:00<?, ?it/s]"
      ]
     },
     "metadata": {},
     "output_type": "display_data"
    },
    {
     "data": {
      "application/vnd.jupyter.widget-view+json": {
       "model_id": "5be3657435e746dcba91fc8206707514",
       "version_major": 2,
       "version_minor": 0
      },
      "text/plain": [
       "Downloading (…)b8147/.gitattributes:   0%|          | 0.00/1.34k [00:00<?, ?B/s]"
      ]
     },
     "metadata": {},
     "output_type": "display_data"
    },
    {
     "data": {
      "application/vnd.jupyter.widget-view+json": {
       "model_id": "8ad1e5f33728420c979dbe2bb3f3337b",
       "version_major": 2,
       "version_minor": 0
      },
      "text/plain": [
       "Downloading (…)74ab8147/config.json:   0%|          | 0.00/504 [00:00<?, ?B/s]"
      ]
     },
     "metadata": {},
     "output_type": "display_data"
    },
    {
     "data": {
      "application/vnd.jupyter.widget-view+json": {
       "model_id": "a09ba9e1914c47d3a16b40e7758bb35c",
       "version_major": 2,
       "version_minor": 0
      },
      "text/plain": [
       "Downloading (…)e374ab8147/vocab.txt:   0%|          | 0.00/187k [00:00<?, ?B/s]"
      ]
     },
     "metadata": {},
     "output_type": "display_data"
    },
    {
     "data": {
      "application/vnd.jupyter.widget-view+json": {
       "model_id": "6a1fd7007a9e41f28b0a6a7b5cd86cc9",
       "version_major": 2,
       "version_minor": 0
      },
      "text/plain": [
       "Downloading pytorch_model.bin:   0%|          | 0.00/474M [00:00<?, ?B/s]"
      ]
     },
     "metadata": {},
     "output_type": "display_data"
    },
    {
     "data": {
      "application/vnd.jupyter.widget-view+json": {
       "model_id": "7dc524dd851840618ff88aea79976fe6",
       "version_major": 2,
       "version_minor": 0
      },
      "text/plain": [
       "Downloading (…)e374ab8147/README.md:   0%|          | 0.00/1.28k [00:00<?, ?B/s]"
      ]
     },
     "metadata": {},
     "output_type": "display_data"
    },
    {
     "data": {
      "text/plain": [
       "'D:\\\\dev_cu\\\\hohoChat\\\\models\\\\ernie-3.0-base-zh'"
      ]
     },
     "execution_count": 3,
     "metadata": {},
     "output_type": "execute_result"
    }
   ],
   "source": [
    "snapshot_download(repo_id = \"nghuyong/ernie-3.0-base-zh\", local_dir = \"../models/ernie-3.0-base-zh/\", ignore_patterns = [\"*.h5\", \"*.ot\", \"*.msgpack\"])"
   ]
  },
  {
   "cell_type": "code",
   "execution_count": null,
   "id": "dc2aff2a",
   "metadata": {},
   "outputs": [],
   "source": []
  }
 ],
 "metadata": {
  "kernelspec": {
   "display_name": "Python 3 (ipykernel)",
   "language": "python",
   "name": "python3"
  },
  "language_info": {
   "codemirror_mode": {
    "name": "ipython",
    "version": 3
   },
   "file_extension": ".py",
   "mimetype": "text/x-python",
   "name": "python",
   "nbconvert_exporter": "python",
   "pygments_lexer": "ipython3",
   "version": "3.10.11"
  }
 },
 "nbformat": 4,
 "nbformat_minor": 5
}
