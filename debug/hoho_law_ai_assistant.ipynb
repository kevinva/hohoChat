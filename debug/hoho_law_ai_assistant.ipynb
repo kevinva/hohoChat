{
 "cells": [
  {
   "cell_type": "code",
   "execution_count": 26,
   "id": "3c86cfc0",
   "metadata": {},
   "outputs": [
    {
     "name": "stdout",
     "output_type": "stream",
     "text": [
      "D:\\dev_cu\\hohoChat\\langchain-ChatGLM-master\n"
     ]
    }
   ],
   "source": [
    "cd ../langchain-ChatGLM-master/"
   ]
  },
  {
   "cell_type": "code",
   "execution_count": null,
   "id": "1cc46db1",
   "metadata": {},
   "outputs": [],
   "source": [
    "import os\n",
    "import time\n",
    "\n",
    "import torch.cuda\n",
    "import torch.backends\n",
    "\n",
    "from configs import model_config\n",
    "from models.chatglm_llm import ChatGLM\n",
    "from chains.local_doc_qa import *\n",
    "from textsplitter import ChineseTextSplitter\n",
    "from utils import torch_gc\n",
    "\n",
    "from langchain.text_splitter import MarkdownTextSplitter, CharacterTextSplitter\n",
    "from langchain.embeddings.huggingface import HuggingFaceEmbeddings\n",
    "from langchain.vectorstores import FAISS\n",
    "from langchain.document_loaders import UnstructuredMarkdownLoader "
   ]
  },
  {
   "cell_type": "code",
   "execution_count": 30,
   "id": "a66df174",
   "metadata": {},
   "outputs": [],
   "source": [
    "DATA_DIR = \"../../data/Laws-master\""
   ]
  },
  {
   "cell_type": "code",
   "execution_count": null,
   "id": "f9c2001e",
   "metadata": {},
   "outputs": [],
   "source": [
    "def time_str_YmdHmS():\n",
    "    current_time = time.time()\n",
    "    local_time = time.localtime(current_time)\n",
    "    time_str = time.strftime('%Y%m%d%H%m%S', local_time)\n",
    "    return time_str"
   ]
  },
  {
   "cell_type": "code",
   "execution_count": 31,
   "id": "99c9876e",
   "metadata": {},
   "outputs": [],
   "source": [
    "def get_filepaths_at_path(item_path):\n",
    "    if os.path.isfile(item_path):\n",
    "        return [item_path]\n",
    "    \n",
    "    result_list = []\n",
    "    for item in os.listdir(item_path):\n",
    "        path = os.path.join(item_path, item)\n",
    "        file_paths = get_filepaths_at_path(path)\n",
    "        result_list.extend(file_paths)\n",
    "    \n",
    "    return result_list"
   ]
  },
  {
   "cell_type": "code",
   "execution_count": 32,
   "id": "9d89b791",
   "metadata": {},
   "outputs": [],
   "source": [
    "file_paths = get_filepaths_at_path(DATA_DIR)\n",
    "file_paths = [file_path for file_path in file_paths if os.path.basename(file_path) != '_index.md']"
   ]
  },
  {
   "cell_type": "code",
   "execution_count": 33,
   "id": "35a408ed",
   "metadata": {},
   "outputs": [
    {
     "data": {
      "text/plain": [
       "3098"
      ]
     },
     "execution_count": 33,
     "metadata": {},
     "output_type": "execute_result"
    }
   ],
   "source": [
    "len(file_paths)"
   ]
  },
  {
   "cell_type": "code",
   "execution_count": 64,
   "id": "8851f0e2",
   "metadata": {},
   "outputs": [],
   "source": [
    "# text_splitter = ChineseTextSplitter(pdf = False)\n",
    "text_splitter = MarkdownTextSplitter(chunk_size = 500, chunk_overlap = 100)\n",
    "\n",
    "docs = []\n",
    "for file_path in file_paths:\n",
    "    loader = UnstructuredMarkdownLoader(file_path)\n",
    "    docs += loader.load_and_split(text_splitter)"
   ]
  },
  {
   "cell_type": "code",
   "execution_count": 65,
   "id": "cbc8fac0",
   "metadata": {},
   "outputs": [
    {
     "data": {
      "text/plain": [
       "44407"
      ]
     },
     "execution_count": 65,
     "metadata": {},
     "output_type": "execute_result"
    }
   ],
   "source": [
    "len(docs)"
   ]
  },
  {
   "cell_type": "code",
   "execution_count": 66,
   "id": "eee8c04a",
   "metadata": {},
   "outputs": [
    {
     "data": {
      "application/vnd.jupyter.widget-view+json": {
       "model_id": "62aaa6bc4e6248958d13702a34a44dd1",
       "version_major": 2,
       "version_minor": 0
      },
      "text/plain": [
       "Downloading (…)b8147/.gitattributes:   0%|          | 0.00/1.34k [00:00<?, ?B/s]"
      ]
     },
     "metadata": {},
     "output_type": "display_data"
    },
    {
     "data": {
      "application/vnd.jupyter.widget-view+json": {
       "model_id": "7ef6cbff6de84471aab4a43246a8246b",
       "version_major": 2,
       "version_minor": 0
      },
      "text/plain": [
       "Downloading (…)e374ab8147/README.md:   0%|          | 0.00/1.28k [00:00<?, ?B/s]"
      ]
     },
     "metadata": {},
     "output_type": "display_data"
    },
    {
     "data": {
      "application/vnd.jupyter.widget-view+json": {
       "model_id": "28ebcdea1c5845dd8b9171fea35d68be",
       "version_major": 2,
       "version_minor": 0
      },
      "text/plain": [
       "Downloading (…)74ab8147/config.json:   0%|          | 0.00/504 [00:00<?, ?B/s]"
      ]
     },
     "metadata": {},
     "output_type": "display_data"
    },
    {
     "data": {
      "application/vnd.jupyter.widget-view+json": {
       "model_id": "abd7ea2063fe4737b0b948f7bb416fd4",
       "version_major": 2,
       "version_minor": 0
      },
      "text/plain": [
       "Downloading pytorch_model.bin:   0%|          | 0.00/474M [00:00<?, ?B/s]"
      ]
     },
     "metadata": {},
     "output_type": "display_data"
    },
    {
     "data": {
      "application/vnd.jupyter.widget-view+json": {
       "model_id": "c392bd6fa9d74762881958fb96ceace8",
       "version_major": 2,
       "version_minor": 0
      },
      "text/plain": [
       "Downloading (…)e374ab8147/vocab.txt:   0%|          | 0.00/187k [00:00<?, ?B/s]"
      ]
     },
     "metadata": {},
     "output_type": "display_data"
    },
    {
     "name": "stderr",
     "output_type": "stream",
     "text": [
      "No sentence-transformers model found with name C:\\Users\\hoho/.cache\\torch\\sentence_transformers\\nghuyong_ernie-3.0-base-zh. Creating a new one with MEAN pooling.\n",
      "Some weights of the model checkpoint at C:\\Users\\hoho/.cache\\torch\\sentence_transformers\\nghuyong_ernie-3.0-base-zh were not used when initializing ErnieModel: ['cls.predictions.transform.LayerNorm.weight', 'cls.predictions.transform.dense.weight', 'cls.predictions.transform.dense.bias', 'cls.predictions.transform.LayerNorm.bias', 'cls.predictions.bias']\n",
      "- This IS expected if you are initializing ErnieModel from the checkpoint of a model trained on another task or with another architecture (e.g. initializing a BertForSequenceClassification model from a BertForPreTraining model).\n",
      "- This IS NOT expected if you are initializing ErnieModel from the checkpoint of a model that you expect to be exactly identical (initializing a BertForSequenceClassification model from a BertForSequenceClassification model).\n"
     ]
    }
   ],
   "source": [
    "embeddings = HuggingFaceEmbeddings(model_name = model_config.embedding_model_dict[\"ernie-base\"], \n",
    "                                   model_kwargs = {'device': model_config.EMBEDDING_DEVICE})"
   ]
  },
  {
   "cell_type": "code",
   "execution_count": 67,
   "id": "69acb436",
   "metadata": {},
   "outputs": [
    {
     "name": "stderr",
     "output_type": "stream",
     "text": [
      "\n",
      "KeyboardInterrupt\n",
      "\n"
     ]
    }
   ],
   "source": [
    "vector_store = FAISS.from_documents(docs, embeddings)"
   ]
  },
  {
   "cell_type": "code",
   "execution_count": null,
   "id": "7c22b333",
   "metadata": {},
   "outputs": [],
   "source": [
    "vs_path = f\"../outputs/vector_store/law_FAISS_{time_str_YmdHmS()}\"\n",
    "vector_store.save_local(vs_path)"
   ]
  },
  {
   "cell_type": "code",
   "execution_count": null,
   "id": "c4786a52",
   "metadata": {},
   "outputs": [],
   "source": [
    "FAISS.similarity_search_with_score_by_vector = similarity_search_with_score_by_vector\n",
    "vector_store.chunk_size = model_config.CHUNK_SIZE"
   ]
  },
  {
   "cell_type": "code",
   "execution_count": null,
   "id": "d0c8374d",
   "metadata": {},
   "outputs": [],
   "source": [
    "llm = ChatGLM()\n",
    "llm.load_model(model_name_or_path = model_config.llm_model_dict[model_config.LLM_MODEL],\n",
    "               llm_device = model_config.LLM_DEVICE,\n",
    "               use_ptuning_v2 = model_config.USE_PTUNING_V2)\n",
    "llm.history_len = LLM_HISTORY_LEN"
   ]
  },
  {
   "cell_type": "code",
   "execution_count": null,
   "id": "1ae9bbb8",
   "metadata": {},
   "outputs": [],
   "source": [
    "def answer_based_on_knowledge(query, vector_store, llm, chat_history = []):\n",
    "    related_docs_with_score = vector_store.similarity_search_with_score(query, k = VECTOR_SEARCH_TOP_K)\n",
    "    related_docs = get_docs_with_score(related_docs_with_score)\n",
    "    prompt = generate_prompt(related_docs, query)\n",
    "\n",
    "    # if streaming:\n",
    "    #     for result, history in self.llm._stream_call(prompt = prompt,history = chat_history):\n",
    "    #         history[-1][0] = query\n",
    "    #         response = {\"query\": query,\n",
    "    #                     \"result\": result,\n",
    "    #                     \"source_documents\": related_docs}\n",
    "    #         yield response, history\n",
    "    # else:\n",
    "    for result, history in llm._call(prompt = prompt, history = chat_history, streaming = False):\n",
    "        history[-1][0] = query\n",
    "        response = {\"query\": query,\n",
    "                    \"result\": result,\n",
    "                    \"source_documents\": related_docs}\n",
    "        yield response, history"
   ]
  },
  {
   "cell_type": "code",
   "execution_count": null,
   "id": "61328a91",
   "metadata": {},
   "outputs": [],
   "source": [
    "from IPython.display import display, Markdown, clear_output\n",
    "\n",
    "def display_answer(query, chat_history = []):\n",
    "    for resp, history in answer_based_on_knowledge(query, vector_store, llm, chat_history):\n",
    "        clear_output(wait = True)\n",
    "        display(Markdown(resp['result']))\n",
    "    \n",
    "    return resp, history"
   ]
  },
  {
   "cell_type": "code",
   "execution_count": 57,
   "id": "f6f78f21",
   "metadata": {},
   "outputs": [
    {
     "data": {
      "text/plain": [
       "[Document(page_content='人体损伤程度鉴定标准\\n\\n范围\\n\\n本标准规定了人体损伤程度鉴定的原则、方法、内容和等级划分。\\n\\n本标准适用于《中华人民共和国刑法》及其他法律、法规所涉及的人体损伤程度鉴定。\\n\\n引用文件\\n\\n下列文件对于本文件的应用是必不可少的。本标准引用文件的最新版本适用于本标准。\\n\\nGB 18667 道路交通事故受伤人员伤残评定\\n\\nGB/T 16180 劳动能力鉴定 职工工伤与职业病致残等级\\n\\nGB/T 26341-2010 残疾人残疾分类和分级\\n\\n术语定义\\n\\n重伤\\n\\n使人肢体残废、毁人容貌、丧失听觉、丧失视觉、丧失其他器官功能或者其他对于人身健康有重大伤害的损伤，包括重伤一级和重伤二级。\\n\\n轻伤\\n\\n使人肢体或者容貌损害，听觉、视觉或者其他器官功能部分障碍或者其他对于人身健康有中度伤害的损伤，包括轻伤一级和轻伤二级。\\n\\n轻微伤\\n\\n各种致伤因素所致的原发性损伤，造成组织器官结构轻微损害或者轻微功能障碍。\\n\\n总则\\n\\n鉴定原则\\n\\n遵循实事求是的原则，坚持以致伤因素对人体直接造成的原发性损伤及由损伤引起的并发症或者后遗症为依据，全面分析，综合鉴定。', metadata={'source': '../../data/Laws-master\\\\其他\\\\人体损伤程度鉴定标准(2014-01-01).md'}),\n",
       " Document(page_content='总则\\n\\n鉴定原则\\n\\n遵循实事求是的原则，坚持以致伤因素对人体直接造成的原发性损伤及由损伤引起的并发症或者后遗症为依据，全面分析，综合鉴定。\\n\\n对于以原发性损伤及其并发症作为鉴定依据的，鉴定时应以损伤当时伤情为主，损伤的后果为辅，综合鉴定。\\n\\n对于以容貌损害或者组织器官功能障碍作为鉴定依据的，鉴定时应以损伤的后果为主，损伤当时伤情为辅，综合鉴定。\\n\\n鉴定时机\\n\\n以原发性损伤为主要鉴定依据的，伤后即可进行鉴定；以损伤所致的并发症为主要鉴定依据的，在伤情稳定后进行鉴定。\\n\\n以容貌损害或者组织器官功能障碍为主要鉴定依据的，在损伤90日后进行鉴定；在特殊情况下可以根据原发性损伤及其并发症出具鉴定意见，但须对有可能出现的后遗症加以说明，必要时应进行复检并予以补充鉴定。 [1]\\n\\n疑难、复杂的损伤，在临床治疗终结或者伤情稳定后进行鉴定。\\n\\n伤病关系处理\\n\\n损伤为主要作用的，既往伤/病为次要或者轻微作用的，应依据本标准相应条款进行鉴定。', metadata={'source': '../../data/Laws-master\\\\其他\\\\人体损伤程度鉴定标准(2014-01-01).md'}),\n",
       " Document(page_content='疑难、复杂的损伤，在临床治疗终结或者伤情稳定后进行鉴定。\\n\\n伤病关系处理\\n\\n损伤为主要作用的，既往伤/病为次要或者轻微作用的，应依据本标准相应条款进行鉴定。\\n\\n损伤与既往伤/病共同作用的，即二者作用相当的，应依据本标准相应条款适度降低损伤程度等级，即等级为重伤一级和重伤二级的，可视具体情况鉴定为轻伤一级或者轻伤二级，等级为轻伤一级和轻伤二级的，均鉴定为轻微伤。\\n\\n既往伤/病为主要作用的，即损伤为次要或者轻微作用的，不宜进行损伤程度鉴定，只说明因果关系。\\n\\n程度分级\\n\\n5.1\\u3000颅脑、脊髓\\n\\n5.1.1 重伤一级\\n\\na)植物生存状态。\\n\\nb)四肢瘫（三肢以上肌力3级以下）。\\n\\nc)偏瘫、截瘫（肌力2级以下），伴大便、小便失禁。\\n\\nd)非肢体瘫的运动障碍（重度）。\\n\\ne)重度智能减退或者器质性精神障碍，生活完全不能自理。\\n\\n5.1.2 重伤二级\\n\\na)头皮缺损面积累计75.0cm2以上。\\n\\nb)开放性颅骨骨折伴硬脑膜破裂。\\n\\nc)颅骨凹陷性或者粉碎性骨折，出现脑受压症状和体征，须手术治疗。\\n\\nd)颅底骨折，伴脑脊液漏持续4周以上。\\n\\ne)颅底骨折，伴面神经或者听神经损伤引起相应神经功能障碍。', metadata={'source': '../../data/Laws-master\\\\其他\\\\人体损伤程度鉴定标准(2014-01-01).md'}),\n",
       " Document(page_content='c)颅骨凹陷性或者粉碎性骨折，出现脑受压症状和体征，须手术治疗。\\n\\nd)颅底骨折，伴脑脊液漏持续4周以上。\\n\\ne)颅底骨折，伴面神经或者听神经损伤引起相应神经功能障碍。\\n\\nf)外伤性蛛网膜下腔出血，伴神经系统症状和体征。\\n\\ng)脑挫(裂)伤，伴神经系统症状和体征。\\n\\nh)颅内出血，伴脑受压症状和体征。\\n\\ni)外伤性脑梗死，伴神经系统症状和体征。\\n\\nj)外伤性脑脓肿。\\n\\nk)外伤性脑动脉瘤，须手术治疗。\\n\\nl)外伤性迟发性癫痫。\\n\\nm)外伤性脑积水，须手术治疗。\\n\\nn)外伤性颈动脉海绵窦瘘。\\n\\no)外伤性下丘脑综合征。\\n\\np)外伤性尿崩症。\\n\\nq)单肢瘫（肌力3级以下）。\\n\\nr)脊髓损伤致重度肛门失禁或者重度排尿障碍。\\n\\n5.1.3 轻伤一级\\n\\na)头皮创口或者瘢痕长度累计20.0cm以上。\\n\\nb)头皮撕脱伤面积累计50.0cm2以上；头皮缺损面积累计24.0cm2以上。\\n\\nc)颅骨凹陷性或者粉碎性骨折。\\n\\nd)颅底骨折伴脑脊液漏。\\n\\ne)脑挫（裂）伤；颅内出血；慢性颅内血肿；外伤性硬脑膜下积液。\\n\\nf)外伤性脑积水；外伤性颅内动脉瘤；外伤性脑梗死；外伤性颅内低压综合征。', metadata={'source': '../../data/Laws-master\\\\其他\\\\人体损伤程度鉴定标准(2014-01-01).md'}),\n",
       " Document(page_content='c)颅骨凹陷性或者粉碎性骨折。\\n\\nd)颅底骨折伴脑脊液漏。\\n\\ne)脑挫（裂）伤；颅内出血；慢性颅内血肿；外伤性硬脑膜下积液。\\n\\nf)外伤性脑积水；外伤性颅内动脉瘤；外伤性脑梗死；外伤性颅内低压综合征。\\n\\ng)脊髓损伤致排便或者排尿功能障碍（轻度）。\\n\\nh)脊髓挫裂伤。\\n\\n5.1.4 轻伤二级\\n\\na)头皮创口或者瘢痕长度累计8.0cm以上。\\n\\nb)头皮撕脱伤面积累计20.0cm2以上；头皮缺损面积累计10.0cm2以上。\\n\\nc)帽状腱膜下血肿范围50.0cm2以上。\\n\\nd)颅骨骨折。\\n\\ne)外伤性蛛网膜下腔出血。\\n\\nf)脑神经损伤引起相应神经功能障碍。\\n\\n5.1.5 轻微伤\\n\\na)头部外伤后伴有神经症状。\\n\\nb)头皮擦伤面积5.0cm2以上；头皮挫伤；头皮下血肿。\\n\\nc)头皮创口或者瘢痕。\\n\\n5.2\\u3000面部、耳廓\\n\\n5.2.1 重伤一级\\n\\na)容貌毁损（重度）。\\n\\n5.2.2 重伤二级\\n\\na)面部条状瘢痕（50%以上位于中心区），单条长度10.0cm以上，或者两条以上长度累计15.0cm以上。', metadata={'source': '../../data/Laws-master\\\\其他\\\\人体损伤程度鉴定标准(2014-01-01).md'}),\n",
       " Document(page_content='5.2.1 重伤一级\\n\\na)容貌毁损（重度）。\\n\\n5.2.2 重伤二级\\n\\na)面部条状瘢痕（50%以上位于中心区），单条长度10.0cm以上，或者两条以上长度累计15.0cm以上。\\n\\nb)面部块状瘢痕（50%以上位于中心区），单块面积6.0cm2以上，或者两块以上面积累计10.0cm2以上。\\n\\nc)面部片状细小瘢痕或者显著色素异常，面积累计达面部30%。\\n\\nd)一侧眼球萎缩或者缺失。\\n\\ne)眼睑缺失相当于一侧上眼睑1/2以上。\\n\\nf)一侧眼睑重度外翻或者双侧眼睑中度外翻。\\n\\ng)一侧上睑下垂完全覆盖瞳孔。\\n\\nh)一侧眼眶骨折致眼球内陷0.5cm以上。\\n\\ni)一侧鼻泪管和内眦韧带断裂。\\n\\nj)鼻部离断或者缺损30%以上。\\n\\nk)耳廓离断、缺损或者挛缩畸形累计相当于一侧耳廓面积50%以上。\\n\\nl)口唇离断或者缺损致牙齿外露3枚以上。\\n\\nm)舌体离断或者缺损达舌系带。\\n\\nn)牙齿脱落或者牙折共7枚以上。\\n\\no)损伤致张口困难Ⅲ度。\\n\\np)面神经损伤致一侧面肌大部分瘫痪，遗留眼睑闭合不全和口角歪斜。\\n\\nq)容貌毁损（轻度）。\\n\\n5.2.3 轻伤一级', metadata={'source': '../../data/Laws-master\\\\其他\\\\人体损伤程度鉴定标准(2014-01-01).md'}),\n",
       " Document(page_content='n)牙齿脱落或者牙折共7枚以上。\\n\\no)损伤致张口困难Ⅲ度。\\n\\np)面神经损伤致一侧面肌大部分瘫痪，遗留眼睑闭合不全和口角歪斜。\\n\\nq)容貌毁损（轻度）。\\n\\n5.2.3 轻伤一级\\n\\na)面部单个创口或者瘢痕长度6.0cm以上；多个创口或者瘢痕长度累计10.0cm以上。\\n\\nb)面部块状瘢痕，单块面积4.0cm2以上；多块面积累计7.0cm2以上。\\n\\nc)面部片状细小瘢痕或者明显色素异常，面积累计30.0cm2以上。\\n\\nd)眼睑缺失相当于一侧上眼睑1/4以上。\\n\\ne)一侧眼睑中度外翻；双侧眼睑轻度外翻。\\n\\nf)一侧上眼睑下垂覆盖瞳孔超过1/2。\\n\\ng)两处以上不同眶壁骨折；一侧眶壁骨折致眼球内陷0.2cm以上。\\n\\nh)双侧泪器损伤伴溢泪。\\n\\ni)一侧鼻泪管断裂；一侧内眦韧带断裂。\\n\\nj)耳廓离断、缺损或者挛缩畸形累计相当于一侧耳廓面积30%以上。\\n\\nk)鼻部离断或者缺损15%以上。\\n\\nl)口唇离断或者缺损致牙齿外露1枚以上。\\n\\nm)牙齿脱落或者牙折共4枚以上。\\n\\nn)损伤致张口困难Ⅱ度。\\n\\no)腮腺总导管完全断裂。\\n\\np)面神经损伤致一侧面肌部分瘫痪，遗留眼睑闭合不全或者口角歪斜。', metadata={'source': '../../data/Laws-master\\\\其他\\\\人体损伤程度鉴定标准(2014-01-01).md'}),\n",
       " Document(page_content='l)口唇离断或者缺损致牙齿外露1枚以上。\\n\\nm)牙齿脱落或者牙折共4枚以上。\\n\\nn)损伤致张口困难Ⅱ度。\\n\\no)腮腺总导管完全断裂。\\n\\np)面神经损伤致一侧面肌部分瘫痪，遗留眼睑闭合不全或者口角歪斜。\\n\\n5.2.4 轻伤二级\\n\\na)面部单个创口或者瘢痕长度4.5cm以上；多个创口或者瘢痕长度累计6.0cm以上。\\n\\nb)面颊穿透创，皮肤创口或者瘢痕长度1.0cm以上。\\n\\nc)口唇全层裂创，皮肤创口或者瘢痕长度1.0cm以上。\\n\\nd)面部块状瘢痕，单块面积3.0cm2以上或多块面积累计5.0cm2以上。\\n\\ne)面部片状细小瘢痕或者色素异常，面积累计8.0cm2以上。\\n\\nf)眶壁骨折（单纯眶内壁骨折除外）。\\n\\ng)眼睑缺损。\\n\\nh)一侧眼睑轻度外翻。\\n\\ni)一侧上眼睑下垂覆盖瞳孔。\\n\\nj)一侧眼睑闭合不全。\\n\\nk)一侧泪器损伤伴溢泪。\\n\\nl)耳廓创口或者瘢痕长度累计6.0cm以上。\\n\\nm)耳廓离断、缺损或者挛缩畸形累计相当于一侧耳廓面积15%以上。\\n\\nn)鼻尖或者一侧鼻翼缺损。\\n\\no)鼻骨粉碎性骨折；双侧鼻骨骨折；鼻骨骨折合并上颌骨额突骨折；鼻骨骨折合并鼻中隔骨折；双侧上颌骨额突骨折。', metadata={'source': '../../data/Laws-master\\\\其他\\\\人体损伤程度鉴定标准(2014-01-01).md'}),\n",
       " Document(page_content='n)鼻尖或者一侧鼻翼缺损。\\n\\no)鼻骨粉碎性骨折；双侧鼻骨骨折；鼻骨骨折合并上颌骨额突骨折；鼻骨骨折合并鼻中隔骨折；双侧上颌骨额突骨折。\\n\\np)舌缺损。\\n\\nq)牙齿脱落或者牙折2枚以上。\\n\\nr)腮腺、颌下腺或者舌下腺实质性损伤。\\n\\ns)损伤致张口困难Ⅰ度。\\n\\nt)颌骨骨折（牙槽突骨折及一侧上颌骨额突骨折除外）。\\n\\nu)颧骨骨折。\\n\\n5.2.5 轻微伤\\n\\na)面部软组织创。\\n\\nb)面部损伤留有瘢痕或者色素改变。\\n\\nc)面部皮肤擦伤，面积2.0cm2以上；面部软组织挫伤；面部划伤4.0cm以上。\\n\\nd)眶内壁骨折。\\n\\ne)眼部挫伤；眼部外伤后影响外观。\\n\\nf)耳廓创。\\n\\ng)鼻骨骨折；鼻出血。\\n\\nh)上颌骨额突骨折。\\n\\ni)口腔粘膜破损；舌损伤。\\n\\nj)牙齿脱落或者缺损；牙槽突骨折；牙齿松动2枚以上或者Ⅲ度松动1枚以上。\\n\\n5.3\\u3000听器听力\\n\\n5.3.1 重伤一级\\n\\na)双耳听力障碍(≥91dB HL)。\\n\\n5.3.2 重伤二级\\n\\na)一耳听力障碍(≥91dB HL)。\\n\\nb)一耳听力障碍(≥81dB HL)，另一耳听力障碍(≥41dB HL)。', metadata={'source': '../../data/Laws-master\\\\其他\\\\人体损伤程度鉴定标准(2014-01-01).md'}),\n",
       " Document(page_content='a)双耳听力障碍(≥91dB HL)。\\n\\n5.3.2 重伤二级\\n\\na)一耳听力障碍(≥91dB HL)。\\n\\nb)一耳听力障碍(≥81dB HL)，另一耳听力障碍(≥41dB HL)。\\n\\nc)一耳听力障碍(≥81dB HL)，伴同侧前庭平衡功能障碍。\\n\\nd)双耳听力障碍(≥61dB HL)。\\n\\ne)双侧前庭平衡功能丧失，睁眼行走困难，不能并足站立。\\n\\n5.3.3 轻伤一级\\n\\na)双耳听力障碍(≥41dB HL)。\\n\\nb)双耳外耳道闭锁。\\n\\n5.3.4 轻伤二级\\n\\na)外伤性鼓膜穿孔6周不能自行愈合。\\n\\nb)听骨骨折或者脱位；听骨链固定。\\n\\nc)一耳听力障碍(≥41dB HL)。\\n\\nd)一侧前庭平衡功能障碍，伴同侧听力减退。\\n\\ne)一耳外耳道横截面1/2以上狭窄。\\n\\n5.3.5 轻微伤\\n\\na)外伤性鼓膜穿孔。\\n\\nb)鼓室积血。\\n\\nc)外伤后听力减退。\\n\\n5.4\\u3000视器视力\\n\\n5.4.1 重伤一级\\n\\na)一眼眼球萎缩或者缺失，另一眼盲目3级。\\n\\nb)一眼视野完全缺损，另一眼视野半径20o以下（视野有效值32%以下）。\\n\\nc)双眼盲目4级。\\n\\n5.4.2 重伤二级\\n\\na)一眼盲目3级。', metadata={'source': '../../data/Laws-master\\\\其他\\\\人体损伤程度鉴定标准(2014-01-01).md'}),\n",
       " Document(page_content='a)一眼眼球萎缩或者缺失，另一眼盲目3级。\\n\\nb)一眼视野完全缺损，另一眼视野半径20o以下（视野有效值32%以下）。\\n\\nc)双眼盲目4级。\\n\\n5.4.2 重伤二级\\n\\na)一眼盲目3级。\\n\\nb)一眼重度视力损害，另一眼中度视力损害。\\n\\nc)一眼视野半径10o以下（视野有效值16%以下）。\\n\\nd)双眼偏盲；双眼残留视野半径30o以下（视野有效值48%以下）。\\n\\n5.4.3 轻伤一级\\n\\na)外伤性青光眼，经治疗难以控制眼压。\\n\\nb)一眼虹膜完全缺损。\\n\\nc)一眼重度视力损害；双眼中度视力损害。\\n\\nd)一眼视野半径30o以下（视野有效值48%以下）；双眼视野半径50o以下（视野有效值80%以下）。\\n\\n5.4.4 轻伤二级\\n\\na)眼球穿通伤或者眼球破裂伤；前房出血须手术治疗；房角后退；虹膜根部离断或者虹膜缺损超过1个象限；睫状体脱离；晶状体脱位；玻璃体积血；外伤性视网膜脱离；外伤性视网膜出血；外伤性黄斑裂孔；外伤性脉络膜脱离。\\n\\nb)角膜斑翳或者血管翳；外伤性白内障；外伤性低眼压；外伤性青光眼。\\n\\nc)瞳孔括约肌损伤致瞳孔显著变形或者瞳孔散大(直径0.6cm以上)。\\n\\nd)斜视；复视。', metadata={'source': '../../data/Laws-master\\\\其他\\\\人体损伤程度鉴定标准(2014-01-01).md'}),\n",
       " Document(page_content='b)角膜斑翳或者血管翳；外伤性白内障；外伤性低眼压；外伤性青光眼。\\n\\nc)瞳孔括约肌损伤致瞳孔显著变形或者瞳孔散大(直径0.6cm以上)。\\n\\nd)斜视；复视。\\n\\ne)睑球粘连。\\n\\nf)一眼矫正视力减退至0.5以下（或者较伤前视力下降0.3以上）；双眼矫正视力减退至0.7以下（或者较伤前视力下降0.2以上）；原单眼中度以上视力损害者，伤后视力降低一个级别。\\n\\ng)一眼视野半径50o以下（视野有效值80%以下）。\\n\\n5.4.5 轻微伤\\n\\na)眼球损伤影响视力。\\n\\n5.5\\u3000颈部\\n\\n5.5.1 重伤一级\\n\\na)颈部大血管破裂。\\n\\nb)咽喉部广泛毁损，呼吸完全依赖气管套管或者造口。\\n\\nc)咽或者食管广泛毁损，进食完全依赖胃管或者造口。\\n\\n5.5.2 重伤二级\\n\\na)甲状旁腺功能低下（重度）。\\n\\nb)甲状腺功能低下，药物依赖。\\n\\nc)咽部、咽后区、喉或者气管穿孔。\\n\\nd)咽喉或者颈部气管损伤，遗留呼吸困难（3级）。\\n\\ne)咽或者食管损伤，遗留吞咽功能障碍（只能进流食）。\\n\\nf)喉损伤遗留发声障碍（重度）。\\n\\ng)颈内动脉血栓形成，血管腔狭窄(50%以上)。', metadata={'source': '../../data/Laws-master\\\\其他\\\\人体损伤程度鉴定标准(2014-01-01).md'}),\n",
       " Document(page_content='d)咽喉或者颈部气管损伤，遗留呼吸困难（3级）。\\n\\ne)咽或者食管损伤，遗留吞咽功能障碍（只能进流食）。\\n\\nf)喉损伤遗留发声障碍（重度）。\\n\\ng)颈内动脉血栓形成，血管腔狭窄(50%以上)。\\n\\nh)颈总动脉血栓形成，血管腔狭窄(25%以上)。\\n\\ni)颈前三角区增生瘢痕，面积累计30.0cm2以上。\\n\\n5.5.3 轻伤一级\\n\\na)颈前部单个创口或者瘢痕长度10.0cm以上；多个创口或者瘢痕长度累计16.0cm以上。\\n\\nb)颈前三角区瘢痕，单块面积10.0cm2以上；多块面积累计12.0cm2以上。\\n\\nc)咽喉部损伤遗留发声或者构音障碍。\\n\\nd)咽或者食管损伤，遗留吞咽功能障碍（只能进半流食）。\\n\\ne)颈总动脉血栓形成；颈内动脉血栓形成；颈外动脉血栓形成；椎动脉血栓形成。\\n\\n5.5.4 轻伤二级\\n\\na)颈前部单个创口或者瘢痕长度5.0cm以上；多个创口或者瘢痕长度累计8.0cm以上。\\n\\nb)颈前部瘢痕，单块面积4.0cm2以上，或者两块以上面积累计6.0cm2以上。\\n\\nc)甲状腺挫裂伤。\\n\\nd)咽喉软骨骨折。\\n\\ne)喉或者气管损伤。\\n\\nf)舌骨骨折。\\n\\ng)膈神经损伤。', metadata={'source': '../../data/Laws-master\\\\其他\\\\人体损伤程度鉴定标准(2014-01-01).md'}),\n",
       " Document(page_content='b)颈前部瘢痕，单块面积4.0cm2以上，或者两块以上面积累计6.0cm2以上。\\n\\nc)甲状腺挫裂伤。\\n\\nd)咽喉软骨骨折。\\n\\ne)喉或者气管损伤。\\n\\nf)舌骨骨折。\\n\\ng)膈神经损伤。\\n\\nh)颈部损伤出现窒息征象。\\n\\n5.5.5 轻微伤\\n\\na)颈部创口或者瘢痕长度1.0cm 以上。\\n\\nb)颈部擦伤面积4.0cm2以上。\\n\\nc)颈部挫伤面积2.0cm2以上。\\n\\nd)颈部划伤长度5.0cm以上。\\n\\n5.6\\u3000胸部损\\n\\n5.6.1 重伤一级\\n\\na)心脏损伤，遗留心功能不全（心功能IV级）。\\n\\nb)肺损伤致一侧全肺切除或者双肺三肺叶切除。\\n\\n5.6.2 重伤二级\\n\\na)心脏损伤，遗留心功能不全（心功能III级）。\\n\\nb)心脏破裂；心包破裂。\\n\\nc)女性双侧乳房损伤，完全丧失哺乳功能；女性一侧乳房大部分缺失。\\n\\nd)纵隔血肿或者气肿，须手术治疗。\\n\\ne)气管或者支气管破裂，须手术治疗。\\n\\nf)肺破裂，须手术治疗。\\n\\ng)血胸、气胸或者血气胸，伴一侧肺萎陷70%以上，或者双侧肺萎陷均在50%以上。\\n\\nh)食管穿孔或者全层破裂，须手术治疗。', metadata={'source': '../../data/Laws-master\\\\其他\\\\人体损伤程度鉴定标准(2014-01-01).md'}),\n",
       " Document(page_content='e)气管或者支气管破裂，须手术治疗。\\n\\nf)肺破裂，须手术治疗。\\n\\ng)血胸、气胸或者血气胸，伴一侧肺萎陷70%以上，或者双侧肺萎陷均在50%以上。\\n\\nh)食管穿孔或者全层破裂，须手术治疗。\\n\\ni)脓胸或者肺脓肿；乳糜胸；支气管胸膜瘘；食管胸膜瘘；食管支气管瘘。\\n\\nj)胸腔大血管破裂。\\n\\nk)膈肌破裂。\\n\\n5.6.3 轻伤一级\\n\\na)心脏挫伤致心包积血。\\n\\nb)女性一侧乳房损伤，丧失哺乳功能。\\n\\nc)肋骨骨折6处以上。\\n\\nd)纵隔血肿；纵隔气肿。\\n\\ne)血胸、气胸或者血气胸，伴一侧肺萎陷30%以上，或者双侧肺萎陷均在20%以上。\\n\\nf)食管挫裂伤。\\n\\n5.6.4 轻伤二级\\n\\na)女性一侧乳房部分缺失或者乳腺导管损伤。\\n\\nb)肋骨骨折2处以上。\\n\\nc)胸骨骨折；锁骨骨折；肩胛骨骨折。\\n\\nd)胸锁关节脱位；肩锁关节脱位。\\n\\ne)胸部损伤，致皮下气肿1周不能自行吸收。\\n\\nf)胸腔积血；胸腔积气。\\n\\ng)胸壁穿透创。\\n\\nh)胸部挤压出现窒息征象。\\n\\n5.6.5 轻微伤\\n\\na)肋骨骨折；肋软骨骨折。\\n\\nb)女性乳房擦挫伤。\\n\\n5.7\\u3000腹部\\n\\n5.7.1 重伤一级\\n\\na)肝功能损害（重度）。', metadata={'source': '../../data/Laws-master\\\\其他\\\\人体损伤程度鉴定标准(2014-01-01).md'}),\n",
       " Document(page_content='g)胸壁穿透创。\\n\\nh)胸部挤压出现窒息征象。\\n\\n5.6.5 轻微伤\\n\\na)肋骨骨折；肋软骨骨折。\\n\\nb)女性乳房擦挫伤。\\n\\n5.7\\u3000腹部\\n\\n5.7.1 重伤一级\\n\\na)肝功能损害（重度）。\\n\\nb)胃肠道损伤致消化吸收功能严重障碍，依赖肠外营养。\\n\\nc)肾功能不全（尿毒症期）。\\n\\n5.7.2 重伤二级\\n\\na)腹腔大血管破裂。\\n\\nb)胃、肠、胆囊或者胆道全层破裂，须手术治疗。\\n\\nc)肝、脾、胰或者肾破裂，须手术治疗。\\n\\nd)输尿管损伤致尿外渗，须手术治疗。\\n\\ne)腹部损伤致肠瘘或者尿瘘。\\n\\nf)腹部损伤引起弥漫性腹膜炎或者感染性休克。\\n\\ng)肾周血肿或者肾包膜下血肿，须手术治疗。\\n\\nh)肾功能不全（失代偿期）。\\n\\ni)肾损伤致肾性高血压。\\n\\nj)外伤性肾积水；外伤性肾动脉瘤；外伤性肾动静脉瘘。\\n\\nk)腹腔积血或者腹膜后血肿，须手术治疗。\\n\\n5.7.3 轻伤一级\\n\\na)胃、肠、胆囊或者胆道非全层破裂。\\n\\nb)肝包膜破裂；肝脏实质内血肿直径2.0cm以上。\\n\\nc)脾包膜破裂；脾实质内血肿直径2.0cm以上。\\n\\nd)胰腺包膜破裂。\\n\\ne)肾功能不全（代偿期）。\\n\\n5.7.4 轻伤二级', metadata={'source': '../../data/Laws-master\\\\其他\\\\人体损伤程度鉴定标准(2014-01-01).md'}),\n",
       " Document(page_content='b)肝包膜破裂；肝脏实质内血肿直径2.0cm以上。\\n\\nc)脾包膜破裂；脾实质内血肿直径2.0cm以上。\\n\\nd)胰腺包膜破裂。\\n\\ne)肾功能不全（代偿期）。\\n\\n5.7.4 轻伤二级\\n\\na)胃、肠、胆囊或者胆道挫伤。\\n\\nb)肝包膜下或者实质内出血。\\n\\nc)脾包膜下或者实质内出血。\\n\\nd)胰腺挫伤。\\n\\ne)肾包膜下或者实质内出血。\\n\\nf)肝功能损害（轻度）。\\n\\ng)急性肾功能障碍（可恢复）。\\n\\nh)腹腔积血或者腹膜后血肿。\\n\\ni)腹壁穿透创。\\n\\n5.7.5 轻微伤\\n\\na)外伤性血尿。\\n\\n5.8\\u3000盆部及会阴\\n\\n5.8.1 重伤一级\\n\\na)阴茎及睾丸全部缺失。\\n\\nb)子宫及卵巢全部缺失。\\n\\n5.8.2 重伤二级\\n\\na)骨盆骨折畸形愈合，致双下肢相对长度相差5.0cm以上。\\n\\nb)骨盆不稳定性骨折，须手术治疗。\\n\\nc)直肠破裂，须手术治疗。\\n\\nd)肛管损伤致大便失禁或者肛管重度狭窄，须手术治疗。\\n\\ne)膀胱破裂，须手术治疗。\\n\\nf)后尿道破裂，须手术治疗。\\n\\ng)尿道损伤致重度狭窄。\\n\\nh)损伤致早产或者死胎；损伤致胎盘早期剥离或者流产，合并轻度休克。\\n\\ni)子宫破裂，须手术治疗。', metadata={'source': '../../data/Laws-master\\\\其他\\\\人体损伤程度鉴定标准(2014-01-01).md'}),\n",
       " Document(page_content='e)膀胱破裂，须手术治疗。\\n\\nf)后尿道破裂，须手术治疗。\\n\\ng)尿道损伤致重度狭窄。\\n\\nh)损伤致早产或者死胎；损伤致胎盘早期剥离或者流产，合并轻度休克。\\n\\ni)子宫破裂，须手术治疗。\\n\\nj)卵巢或者输卵管破裂，须手术治疗。\\n\\nk)阴道重度狭窄。\\n\\nl)幼女阴道II度撕裂伤。\\n\\nm)女性会阴或者阴道III度撕裂伤。\\n\\nn)龟头缺失达冠状沟。\\n\\no)阴囊皮肤撕脱伤面积占阴囊皮肤面积50%以上。\\n\\np)双侧睾丸损伤，丧失生育能力。\\n\\nq)双侧附睾或者输精管损伤，丧失生育能力。\\n\\nr)直肠阴道瘘；膀胱阴道瘘；直肠膀胱瘘。\\n\\ns)重度排尿障碍。\\n\\n5.8.3 轻伤一级\\n\\na)骨盆2处以上骨折；骨盆骨折畸形愈合；髋臼骨折。\\n\\nb)前尿道破裂，须手术治疗。\\n\\nc)输尿管狭窄。\\n\\nd)一侧卵巢缺失或者萎缩。\\n\\ne)阴道轻度狭窄。\\n\\nf)龟头缺失1/2以上。\\n\\ng)阴囊皮肤撕脱伤面积占阴囊皮肤面积30%以上。\\n\\nh)一侧睾丸或者附睾缺失；一侧睾丸或者附睾萎缩。\\n\\n5.8.4 轻伤二级\\n\\na)骨盆骨折。\\n\\nb)直肠或者肛管挫裂伤。\\n\\nc)一侧输尿管挫裂伤；膀胱挫裂伤；尿道挫裂伤。', metadata={'source': '../../data/Laws-master\\\\其他\\\\人体损伤程度鉴定标准(2014-01-01).md'}),\n",
       " Document(page_content='h)一侧睾丸或者附睾缺失；一侧睾丸或者附睾萎缩。\\n\\n5.8.4 轻伤二级\\n\\na)骨盆骨折。\\n\\nb)直肠或者肛管挫裂伤。\\n\\nc)一侧输尿管挫裂伤；膀胱挫裂伤；尿道挫裂伤。\\n\\nd)子宫挫裂伤；一侧卵巢或者输卵管挫裂伤。\\n\\ne)阴道撕裂伤。\\n\\nf)女性外阴皮肤创口或者瘢痕长度累计4.0cm以上。\\n\\ng)龟头部分缺损。\\n\\nh)阴茎撕脱伤；阴茎皮肤创口或者瘢痕长度2.0cm以上；阴茎海绵体出血并形成硬结。\\n\\ni)阴囊壁贯通创；阴囊皮肤创口或者瘢痕长度累计4.0cm以上；阴囊内积血，2周内未完全吸收。\\n\\nj)一侧睾丸破裂、血肿、脱位或者扭转。\\n\\nk)一侧输精管破裂。\\n\\nl)轻度肛门失禁或者轻度肛门狭窄。\\n\\nm)轻度排尿障碍。\\n\\nn)外伤性难免流产；外伤性胎盘早剥。\\n\\n5.8.5 轻微伤\\n\\na)会阴部软组织挫伤。\\n\\nb)会阴创；阴囊创；阴茎创。\\n\\nc)阴囊皮肤挫伤。\\n\\nd)睾丸或者阴茎挫伤。\\n\\ne)外伤性先兆流产。\\n\\n5.9\\u3000脊柱四肢\\n\\n5.9.1 重伤一级\\n\\na)二肢以上离断或者缺失(上肢腕关节以上、下肢踝关节以上)。\\n\\nb)二肢六大关节功能完全丧失。\\n\\n5.9.2 重伤二级', metadata={'source': '../../data/Laws-master\\\\其他\\\\人体损伤程度鉴定标准(2014-01-01).md'}),\n",
       " Document(page_content='e)外伤性先兆流产。\\n\\n5.9\\u3000脊柱四肢\\n\\n5.9.1 重伤一级\\n\\na)二肢以上离断或者缺失(上肢腕关节以上、下肢踝关节以上)。\\n\\nb)二肢六大关节功能完全丧失。\\n\\n5.9.2 重伤二级\\n\\na)四肢任一大关节强直畸形或者功能丧失50%以上。\\n\\nb)臂丛神经干性或者束性损伤，遗留肌瘫（肌力3级以下）。\\n\\nc)正中神经肘部以上损伤，遗留肌瘫（肌力3级以下）。\\n\\nd)桡神经肘部以上损伤，遗留肌瘫（肌力3级以下）。\\n\\ne)尺神经肘部以上损伤，遗留肌瘫（肌力3级以下）。\\n\\nf)骶丛神经或者坐骨神经损伤，遗留肌瘫（肌力3级以下）。\\n\\ng)股骨干骨折缩短5.0cm以上、成角畸形30o以上或者严重旋转畸形。\\n\\nh)胫腓骨骨折缩短5.0cm以上、成角畸形30o以上或者严重旋转畸形。\\n\\ni)膝关节挛缩畸形屈曲30o以上。\\n\\nj)一侧膝关节交叉韧带完全断裂遗留旋转不稳。\\n\\nk)股骨颈骨折或者髋关节脱位，致股骨头坏死。\\n\\nl)四肢长骨骨折不愈合或者假关节形成；四肢长骨骨折并发慢性骨髓炎。\\n\\nm)一足离断或者缺失50%以上；足跟离断或者缺失50%以上。', metadata={'source': '../../data/Laws-master\\\\其他\\\\人体损伤程度鉴定标准(2014-01-01).md'}),\n",
       " Document(page_content='k)股骨颈骨折或者髋关节脱位，致股骨头坏死。\\n\\nl)四肢长骨骨折不愈合或者假关节形成；四肢长骨骨折并发慢性骨髓炎。\\n\\nm)一足离断或者缺失50%以上；足跟离断或者缺失50%以上。\\n\\nn)一足的第一趾和其余任何二趾离断或者缺失；一足除第一趾外，离断或者缺失4趾。\\n\\no)两足5个以上足趾离断或者缺失。\\n\\np)一足第一趾及其相连的跖骨离断或者缺失。\\n\\nq)一足除第一趾外，任何三趾及其相连的跖骨离断或者缺失。\\n\\n5.9.3 轻伤一级\\n\\na)四肢任一大关节功能丧失25%以上。\\n\\nb)一节椎体压缩骨折超过1/3以上；二节以上椎体骨折；三处以上横突、棘突或者椎弓骨折。\\n\\nc)膝关节韧带断裂伴半月板破裂。\\n\\nd)四肢长骨骨折畸形愈合。\\n\\ne)四肢长骨粉碎性骨折或者两处以上骨折。\\n\\nf)四肢长骨骨折累及关节面。\\n\\ng)股骨颈骨折未见股骨头坏死，已行假体置换。\\n\\nh)骺板断裂。\\n\\ni)一足离断或者缺失10%以上；足跟离断或者缺失20%以上。\\n\\nj)一足的第一趾离断或者缺失；一足除第一趾外的任何二趾离断或者缺失。\\n\\nk)三个以上足趾离断或者缺失。\\n\\nl)除第一趾外任何一趾及其相连的跖骨离断或者缺失。', metadata={'source': '../../data/Laws-master\\\\其他\\\\人体损伤程度鉴定标准(2014-01-01).md'}),\n",
       " Document(page_content='j)一足的第一趾离断或者缺失；一足除第一趾外的任何二趾离断或者缺失。\\n\\nk)三个以上足趾离断或者缺失。\\n\\nl)除第一趾外任何一趾及其相连的跖骨离断或者缺失。\\n\\nm)肢体皮肤创口或者瘢痕长度累计45.0cm以上。\\n\\n5.9.4 轻伤二级\\n\\na)四肢任一大关节功能丧失10%以上。\\n\\nb)四肢重要神经损伤。\\n\\nc)四肢重要血管破裂。\\n\\nd)椎骨骨折或者脊椎脱位（尾椎脱位不影响功能的除外）；外伤性椎间盘突出。\\n\\ne)肢体大关节韧带断裂；半月板破裂。\\n\\nf)四肢长骨骨折；髌骨骨折。\\n\\ng)骨骺分离。\\n\\nh)损伤致肢体大关节脱位。\\n\\ni)第一趾缺失超过趾间关节；除第一趾外，任何二趾缺失超过趾间关节；一趾缺失。\\n\\nj)两节趾骨骨折；一节趾骨骨折合并一跖骨骨折。\\n\\nk)两跖骨骨折或者一跖骨完全骨折；距骨、跟骨、骰骨、楔骨或者足舟骨骨折；跖跗关节脱位。\\n\\nl)肢体皮肤一处创口或者瘢痕长度10.0cm以上；两处以上创口或者瘢痕长度累计15.0cm以上。\\n\\n5.9.5 轻微伤\\n\\na)肢体一处创口或者瘢痕长度1.0cm以上；两处以上创口或者瘢痕长度累计1.5cm以上；刺创深达肌层。', metadata={'source': '../../data/Laws-master\\\\其他\\\\人体损伤程度鉴定标准(2014-01-01).md'}),\n",
       " Document(page_content='5.9.5 轻微伤\\n\\na)肢体一处创口或者瘢痕长度1.0cm以上；两处以上创口或者瘢痕长度累计1.5cm以上；刺创深达肌层。\\n\\nb)肢体关节、肌腱或者韧带损伤。\\n\\nc)骨挫伤。\\n\\nd)足骨骨折。\\n\\ne)外伤致趾甲脱落，甲床暴露；甲床出血。\\n\\nf)尾椎脱位。\\n\\n5.10\\u3000手\\n\\n5.10.1 重伤一级\\n\\na)双手离断、缺失或者功能完全丧失。\\n\\n5.10.2 重伤二级\\n\\na)手功能丧失累计达一手功能36%。\\n\\nb)一手拇指挛缩畸形不能对指和握物。\\n\\nc)一手除拇指外，其余任何三指挛缩畸形，不能对指和握物。\\n\\nd)一手拇指离断或者缺失超过指间关节。\\n\\ne)一手食指和中指全部离断或者缺失。\\n\\nf)一手除拇指外的任何三指离断或者缺失均超过近侧指间关节。\\n\\n5.10.3 轻伤一级\\n\\na)手功能丧失累计达一手功能16%。\\n\\nb)一手拇指离断或者缺失未超过指间关节。\\n\\nc)一手除拇指外食指和中指离断或者缺失均超过远侧指间关节。\\n\\nd)一手除拇指外的环指和小指离断或者缺失均超过近侧指间关节。\\n\\n5.10.4 轻伤二级\\n\\na)手功能丧失累计达一手功能4%。\\n\\nb)除拇指外的一个指节离断或者缺失。', metadata={'source': '../../data/Laws-master\\\\其他\\\\人体损伤程度鉴定标准(2014-01-01).md'}),\n",
       " Document(page_content='d)一手除拇指外的环指和小指离断或者缺失均超过近侧指间关节。\\n\\n5.10.4 轻伤二级\\n\\na)手功能丧失累计达一手功能4%。\\n\\nb)除拇指外的一个指节离断或者缺失。\\n\\nc)两节指骨线性骨折或者一节指骨粉碎性骨折（不含第2至5指末节）。\\n\\nd)舟骨骨折、月骨脱位或者掌骨完全性骨折。\\n\\n5.10.5 轻微伤\\n\\na)手擦伤面积10.0cm2以上或者挫伤面积6.0cm2以上。\\n\\nb)手一处创口或者瘢痕长度1.0cm以上；两处以上创口或者瘢痕长度累计1.5cm以上；刺伤深达肌层。\\n\\nc)手关节或者肌腱损伤。\\n\\nd)腕骨、掌骨或者指骨骨折。\\n\\ne)外伤致指甲脱落，甲床暴露；甲床出血。\\n\\n5.11\\u3000体表\\n\\n5.11.1 重伤二级\\n\\na)挫伤面积累计达体表面积30%。\\n\\nb)创口或者瘢痕长度累计200.0cm以上。\\n\\n5.11.2 轻伤一级\\n\\na)挫伤面积累计达体表面积10%。\\n\\nb)创口或者瘢痕长度累计40.0cm以上。\\n\\nc)撕脱伤面积100.0cm2以上。\\n\\nd)皮肤缺损30.0cm2以上。\\n\\n5.11.3 轻伤二级\\n\\na)挫伤面积达体表面积6%。', metadata={'source': '../../data/Laws-master\\\\其他\\\\人体损伤程度鉴定标准(2014-01-01).md'}),\n",
       " Document(page_content='b)创口或者瘢痕长度累计40.0cm以上。\\n\\nc)撕脱伤面积100.0cm2以上。\\n\\nd)皮肤缺损30.0cm2以上。\\n\\n5.11.3 轻伤二级\\n\\na)挫伤面积达体表面积6%。\\n\\nb)单个创口或者瘢痕长度10.0cm以上；多个创口或者瘢痕长度累计15.0cm以上。\\n\\nc)撕脱伤面积50.0cm2以上。\\n\\nd)皮肤缺损6.0cm2以上。\\n\\n5.11.4 轻微伤\\n\\na)擦伤面积20.0cm2以上或者挫伤面积15.0cm2以上。\\n\\nb)一处创口或者瘢痕长度1.0cm以上；两处以上创口或者瘢痕长度累计1.5cm以上；刺创深达肌层。\\n\\nc)咬伤致皮肤破损。\\n\\n5.12\\u3000其他\\n\\n5.12.1 重伤一级\\n\\na)深IIo以上烧烫伤面积达体表面积70%或者IIIo面积达30%。\\n\\n5.12.2 重伤二级\\n\\na)IIo以上烧烫伤面积达体表面积30%或者IIIo面积达10%；面积低于上述程度但合并吸入有毒气体中毒或者严重呼吸道烧烫伤。\\n\\nb)枪弹创，创道长度累计180.0cm。\\n\\nc)各种损伤引起脑水肿（脑肿胀），脑疝形成。\\n\\nd)各种损伤引起休克（中度）。\\n\\ne)挤压综合征（II级）。', metadata={'source': '../../data/Laws-master\\\\其他\\\\人体损伤程度鉴定标准(2014-01-01).md'}),\n",
       " Document(page_content='b)枪弹创，创道长度累计180.0cm。\\n\\nc)各种损伤引起脑水肿（脑肿胀），脑疝形成。\\n\\nd)各种损伤引起休克（中度）。\\n\\ne)挤压综合征（II级）。\\n\\nf)损伤引起脂肪栓塞综合征（完全型）。\\n\\ng)各种损伤致急性呼吸窘迫综合征(重度)。\\n\\nh)电击伤（IIo）。\\n\\ni)溺水（中度）。\\n\\nj)脑内异物存留；心脏异物存留。\\n\\nk)器质性阴茎勃起障碍（重度）。\\n\\n5.12.3 轻伤一级\\n\\na)IIo以上烧烫伤面积达体表面积20%或者IIIo面积达5%。\\n\\nb)损伤引起脂肪栓塞综合征（不完全型）。\\n\\nc)器质性阴茎勃起障碍（中度）。\\n\\n5.12.4 轻伤二级\\n\\na)IIo以上烧烫伤面积达体表面积5%或者IIIo面积达0.5%。\\n\\nb)呼吸道烧伤。\\n\\nc)挤压综合征（I级）。\\n\\nd)电击伤（Ⅰo）。\\n\\ne)溺水（轻度）。\\n\\nf)各种损伤引起休克（轻度）。\\n\\ng)呼吸功能障碍，出现窒息征象。\\n\\nh)面部异物存留；眶内异物存留；鼻窦异物存留。\\n\\ni)胸腔内异物存留；腹腔内异物存留；盆腔内异物存留。\\n\\nj)深部组织内异物存留。\\n\\nk)骨折内固定物损坏需要手术更换或者修复。', metadata={'source': '../../data/Laws-master\\\\其他\\\\人体损伤程度鉴定标准(2014-01-01).md'}),\n",
       " Document(page_content='h)面部异物存留；眶内异物存留；鼻窦异物存留。\\n\\ni)胸腔内异物存留；腹腔内异物存留；盆腔内异物存留。\\n\\nj)深部组织内异物存留。\\n\\nk)骨折内固定物损坏需要手术更换或者修复。\\n\\nl)各种置入式假体装置损坏需要手术更换或者修复。\\n\\nm)器质性阴茎勃起障碍（轻度）。\\n\\n5.12.5 轻微伤\\n\\na)身体各部位骨皮质的砍（刺）痕；轻微撕脱性骨折，无功能障碍。\\n\\nb)面部Ⅰo烧烫伤面积10.0cm2以上；浅IIo烧烫伤。\\n\\nc)颈部Ⅰo烧烫伤面积15.0cm2以上；浅IIo烧烫伤面积2.0cm2以上。\\n\\nd)体表Ⅰo烧烫伤面积20.0cm2以上；浅IIo烧烫伤面积4.0cm2以上；深IIo烧烫伤。\\n\\n附则\\n\\n6.1\\u3000伤后因其他原因死亡的个体，其生前损伤比照本标准相关条款综合鉴定。\\n\\n6.2\\u3000未列入本标准中的物理性、化学性和生物性等致伤因素造成的人体损伤，比照本标准中的相应条款综合鉴定。\\n\\n6.3\\u3000本标准所称的损伤是指各种致伤因素所引起的人体组织器官结构破坏或者功能障碍。反应性精神病、癔症等，均为内源性疾病，不宜鉴定损伤程度。', metadata={'source': '../../data/Laws-master\\\\其他\\\\人体损伤程度鉴定标准(2014-01-01).md'}),\n",
       " Document(page_content='6.3\\u3000本标准所称的损伤是指各种致伤因素所引起的人体组织器官结构破坏或者功能障碍。反应性精神病、癔症等，均为内源性疾病，不宜鉴定损伤程度。\\n\\n6.4\\u3000本标准未作具体规定的损伤，可以遵循损伤程度等级划分原则，比照本标准相近条款进行损伤程度鉴定。\\n\\n6.5\\u3000盲管创、贯通创，其创道长度可视为皮肤创口长度，并参照皮肤创口长度相应条款鉴定损伤程度。\\n\\n6.6\\u3000牙折包括冠折、根折和根冠折，冠折须暴露髓腔。\\n\\n6.7\\u3000骨皮质的砍（刺）痕或者轻微撕脱性骨折（无功能障碍）的，不构成本标准所指的轻伤。\\n\\n6.8\\u3000本标准所称大血管是指胸主动脉、主动脉弓分支、肺动脉、肺静脉、上腔静脉和下腔静脉，腹主动脉、髂总动脉、髂外动脉、髂外静脉。\\n\\n6.9\\u3000本标准四肢大关节是指肩、肘、腕、髋、膝、踝等六大关节。\\n\\n6.10\\u3000本标准四肢重要神经是指臂丛及其分支神经（包括正中神经、尺神经、桡神经和肌皮神经等）和腰骶丛及其分支神经（包括坐骨神经、腓总神经、腓浅神经和胫神经等）。\\n\\n6.11\\u3000本标准四肢重要血管是指与四肢重要神经伴行的同名动、静脉。\\n\\n6.12\\u3000本标准幼女或者儿童是指年龄不满14周岁的个体。', metadata={'source': '../../data/Laws-master\\\\其他\\\\人体损伤程度鉴定标准(2014-01-01).md'}),\n",
       " Document(page_content='6.11\\u3000本标准四肢重要血管是指与四肢重要神经伴行的同名动、静脉。\\n\\n6.12\\u3000本标准幼女或者儿童是指年龄不满14周岁的个体。\\n\\n6.13\\u3000本标准所称的假体是指植入体内替代组织器官功能的装置，如：颅骨修补材料、人工晶体、义眼座、固定义齿（种植牙）、阴茎假体、人工关节、起搏器、支架等，但可摘式义眼、义齿等除外。\\n\\n6.14\\u3000移植器官损伤参照相应条款综合鉴定。\\n\\n6.15\\u3000本标准所称组织器官包括再植或者再造成活的。\\n\\n6.16\\u3000组织器官缺失是指损伤当时完全离体或者仅有少量皮肤和皮下组织相连，或者因损伤经手术切除的。器官离断（包括牙齿脱落），经再植、再造手术成功的，按损伤当时情形鉴定损伤程度。\\n\\n6.17\\u3000对于两个部位以上同类损伤可以累加，比照相关部位数值规定高的条款进行评定。\\n\\n6.18\\u3000本标准所涉及的体表损伤数值，0～6岁按50%计算，7～10岁按60%计算，11～14岁按80%计算。\\n\\n6.19\\u3000本标准中出现的数字均含本数', metadata={'source': '../../data/Laws-master\\\\其他\\\\人体损伤程度鉴定标准(2014-01-01).md'})]"
      ]
     },
     "execution_count": 57,
     "metadata": {},
     "output_type": "execute_result"
    }
   ],
   "source": [
    "question = \"信用卡欠款不还会遭到什么处罚？\"\n",
    "answer, history = display_answer(question, chat_history = [])"
   ]
  },
  {
   "cell_type": "code",
   "execution_count": null,
   "id": "8f8a6f60",
   "metadata": {},
   "outputs": [],
   "source": []
  }
 ],
 "metadata": {
  "kernelspec": {
   "display_name": "Python 3 (ipykernel)",
   "language": "python",
   "name": "python3"
  },
  "language_info": {
   "codemirror_mode": {
    "name": "ipython",
    "version": 3
   },
   "file_extension": ".py",
   "mimetype": "text/x-python",
   "name": "python",
   "nbconvert_exporter": "python",
   "pygments_lexer": "ipython3",
   "version": "3.10.11"
  }
 },
 "nbformat": 4,
 "nbformat_minor": 5
}
